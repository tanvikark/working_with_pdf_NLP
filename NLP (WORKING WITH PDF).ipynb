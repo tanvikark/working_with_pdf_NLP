{
 "cells": [
  {
   "cell_type": "code",
   "execution_count": 4,
   "id": "c53f547e-d16c-44f3-8f0e-ba0c5a4a59fb",
   "metadata": {},
   "outputs": [
    {
     "name": "stdout",
     "output_type": "stream",
     "text": [
      "Requirement already satisfied: PyPDF2 in c:\\users\\dell\\anaconda3\\lib\\site-packages (3.0.1)\n",
      "Note: you may need to restart the kernel to use updated packages.\n"
     ]
    }
   ],
   "source": [
    "pip install PyPDF2"
   ]
  },
  {
   "cell_type": "code",
   "execution_count": 5,
   "id": "60051d5e-5899-4612-a948-2c46b1a5f6f2",
   "metadata": {},
   "outputs": [],
   "source": [
    "import PyPDF2"
   ]
  },
  {
   "cell_type": "code",
   "execution_count": 6,
   "id": "cd1815a8-e4ba-4a02-b27d-a9caffdeef81",
   "metadata": {},
   "outputs": [],
   "source": [
    "pdf_path = r'C:\\Users\\DELL\\OneDrive\\Desktop\\Preamble-English.pdf'"
   ]
  },
  {
   "cell_type": "code",
   "execution_count": 7,
   "id": "2c5ca3b2-c1ec-4f50-8b1a-3ceac6028d4c",
   "metadata": {},
   "outputs": [],
   "source": [
    "f = open(pdf_path,'rb')"
   ]
  },
  {
   "cell_type": "code",
   "execution_count": 8,
   "id": "981c8e12-3005-431d-ab99-51cacfc2897c",
   "metadata": {},
   "outputs": [],
   "source": [
    "pdf_reader = PyPDF2.PdfReader(f)"
   ]
  },
  {
   "cell_type": "code",
   "execution_count": 16,
   "id": "39534b82-bddd-4255-8f1b-9eb58cd69670",
   "metadata": {},
   "outputs": [
    {
     "data": {
      "text/plain": [
       "1"
      ]
     },
     "execution_count": 16,
     "metadata": {},
     "output_type": "execute_result"
    }
   ],
   "source": [
    "len(pdf_reader.pages)"
   ]
  },
  {
   "cell_type": "code",
   "execution_count": 18,
   "id": "588b69b7-3119-423c-aa96-b9a80bfa31df",
   "metadata": {},
   "outputs": [],
   "source": [
    "page_one = pdf_reader.pages[0]"
   ]
  },
  {
   "cell_type": "code",
   "execution_count": 20,
   "id": "6205b401-1c8e-47e8-bfa7-98d5597b5f0d",
   "metadata": {},
   "outputs": [],
   "source": [
    "page_one_text = page_one.extract_text()"
   ]
  },
  {
   "cell_type": "code",
   "execution_count": 22,
   "id": "3645be9a-c0c9-4781-8e54-e9dffab41b65",
   "metadata": {},
   "outputs": [
    {
     "data": {
      "text/plain": [
       "''"
      ]
     },
     "execution_count": 22,
     "metadata": {},
     "output_type": "execute_result"
    }
   ],
   "source": [
    "page_one_text"
   ]
  },
  {
   "cell_type": "code",
   "execution_count": 24,
   "id": "16e44010-370c-4423-8434-7164ffa72bc8",
   "metadata": {},
   "outputs": [],
   "source": [
    "f.close()"
   ]
  },
  {
   "cell_type": "code",
   "execution_count": null,
   "id": "67164eb7-eb7c-4a50-9ba2-33fe73a3ef37",
   "metadata": {},
   "outputs": [],
   "source": []
  }
 ],
 "metadata": {
  "kernelspec": {
   "display_name": "Python 3 (ipykernel)",
   "language": "python",
   "name": "python3"
  },
  "language_info": {
   "codemirror_mode": {
    "name": "ipython",
    "version": 3
   },
   "file_extension": ".py",
   "mimetype": "text/x-python",
   "name": "python",
   "nbconvert_exporter": "python",
   "pygments_lexer": "ipython3",
   "version": "3.12.4"
  }
 },
 "nbformat": 4,
 "nbformat_minor": 5
}
